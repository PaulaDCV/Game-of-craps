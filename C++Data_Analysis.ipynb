{
  "nbformat": 4,
  "nbformat_minor": 0,
  "metadata": {
    "colab": {
      "name": "C++Data Analysis.ipynb",
      "provenance": [],
      "collapsed_sections": []
    },
    "kernelspec": {
      "name": "python3",
      "display_name": "Python 3"
    },
    "language_info": {
      "name": "python"
    }
  },
  "cells": [
    {
      "cell_type": "markdown",
      "metadata": {
        "id": "GGMcBqvf0z9X"
      },
      "source": [
        "Open the file and get the data into two arrays. Data is arranegd first value is x second value is y. \n",
        "<br>\n",
        "1 is win \n",
        "0 is Loss\n",
        "</br>\n",
        " Eg: \" 1 3 1 8 0 1\"\n",
        "</br>\n",
        "Won in 3 rounds\n",
        "Won in 8 round \n",
        "Lost in 1 round\n"
      ]
    },
    {
      "cell_type": "code",
      "metadata": {
        "id": "ExQgrRqyFZTF"
      },
      "source": [
        "with open('test.dat') as f:\n",
        "   fileList =  [line for line in f][0].split() \n",
        "x = []\n",
        "y = []\n",
        "#Loop through variables 2 at a time and append them to lists \n",
        "for i in range(0,len(fileList),2):\n",
        "  x.append(fileList[i])\n",
        "  y.append(fileList[i+1])\n"
      ],
      "execution_count": null,
      "outputs": []
    },
    {
      "cell_type": "code",
      "metadata": {
        "colab": {
          "base_uri": "https://localhost:8080/"
        },
        "id": "sBF2ccVeWvCJ",
        "outputId": "59f0668c-22d8-4ce1-c200-5ad576194d1b"
      },
      "source": [
        "averageLength = sum([int(i) for i in y])/10000\n",
        "print(\"Average length of game\", averageLength)\n",
        "import statistics\n",
        "print(\"Standard Deviation:\",statistics.stdev([int(i) for i in y]))"
      ],
      "execution_count": null,
      "outputs": [
        {
          "output_type": "stream",
          "name": "stdout",
          "text": [
            "Average length of game 3.3868\n",
            "Standard Deviation: 3.022531940266801\n"
          ]
        }
      ]
    },
    {
      "cell_type": "code",
      "metadata": {
        "colab": {
          "base_uri": "https://localhost:8080/"
        },
        "id": "yEzw-JoSJ9F1",
        "outputId": "84268dcd-f35b-479d-ae91-273de1fa6e70"
      },
      "source": [
        "import pandas as pd\n",
        "data = {\"Win/Loss\": x,\"Throws\":y}\n",
        "# Create DataFrame  \n",
        "df = pd.DataFrame(data)  \n",
        "wins = {}\n",
        "loss = {}\n",
        "\n",
        "#Make two separate lists with wins and losses for further analysis\n",
        "for i in range(len(x)):\n",
        "  #If its a win\n",
        "  if x[i] == \"1\":\n",
        "    #temp variable get current value for wins in the same amount of throws\n",
        "    t = wins.get(int(y[i]),0)\n",
        "    wins[int(y[i])] = t+1\n",
        "  #If loss\n",
        "  else:\n",
        "    t =loss.get(int(y[i]),0)\n",
        "    loss[int(y[i])] = t+1 \n",
        "  \n",
        "xW = []\n",
        "yW = []\n",
        "totalWins= 0\n",
        "print(wins)\n",
        "print(loss)\n",
        "\n",
        "#Do a table with number of wins at each point\n",
        "for k,v in wins.items():\n",
        "  xW.append(k)\n",
        "  yW.append(v) \n",
        "  totalWins +=v\n",
        "winsDf = pd.DataFrame({\"Throws\": xW, \"Games\": yW})\n",
        "\n",
        "xL = []\n",
        "yL = []\n",
        "totalLoss = 0\n",
        "for k,v in loss.items():\n",
        "  xL.append(k)\n",
        "  yL.append(v) \n",
        "  totalLoss +=v\n",
        "\n",
        "lossDf = pd.DataFrame({\"Throws\": xL, \"Games\": yL})\n",
        "\n",
        "\n",
        "#Probability of total wins = wins/(loss+wins)\n",
        "totalWins/(totalWins+totalLoss)\n",
        "print(\"Total Wins:\",totalWins,\"Total Loss:\", totalLoss)\n",
        "print(totalWins, \"/\" , totalWins + totalLoss)\n",
        "print(\"Probability of wins = \",totalWins/(totalWins+totalLoss)\n"
      ],
      "execution_count": null,
      "outputs": [
        {
          "output_type": "stream",
          "name": "stdout",
          "text": [
            "{7: 135, 2: 809, 1: 2224, 13: 23, 5: 286, 3: 582, 9: 69, 4: 370, 14: 17, 12: 30, 6: 199, 8: 106, 10: 59, 11: 36, 17: 5, 16: 12, 18: 8, 15: 11, 21: 3, 23: 1, 20: 2, 19: 1, 35: 1}\n",
            "{4: 580, 1: 1104, 5: 417, 7: 209, 2: 1087, 9: 108, 8: 148, 10: 77, 6: 294, 3: 766, 12: 49, 11: 52, 13: 42, 14: 23, 19: 7, 15: 19, 21: 1, 20: 6, 25: 1, 16: 8, 17: 5, 18: 6, 22: 1, 24: 1}\n",
            "Total Wins: 4989 Total Loss: 5011\n",
            "4989 / 10000\n",
            "Probability of wins =  0.4989\n"
          ]
        }
      ]
    },
    {
      "cell_type": "code",
      "metadata": {
        "colab": {
          "base_uri": "https://localhost:8080/",
          "height": 296
        },
        "id": "wPt2EOVHL7GM",
        "outputId": "12e9ad22-b95b-4a94-ad17-de5d949c8248"
      },
      "source": [
        "import seaborn as sns\n",
        "#Visualising the number of wins and losses \n",
        "sns.lineplot(data=lossDf, x='Throws', y='Games', color=\"red\", label =\"loss\")\n",
        "sns.lineplot(data=winsDf, x='Throws', y='Games', label =\"wins\")"
      ],
      "execution_count": null,
      "outputs": [
        {
          "output_type": "execute_result",
          "data": {
            "text/plain": [
              "<matplotlib.axes._subplots.AxesSubplot at 0x7fa47922f310>"
            ]
          },
          "metadata": {},
          "execution_count": 8
        },
        {
          "output_type": "display_data",
          "data": {
            "image/png": "[encoded data removed]",
            "text/plain": [
              "<Figure size 432x288 with 1 Axes>"
            ]
          },
          "metadata": {
            "needs_background": "light"
          }
        }
      ]
    },
    {
      "cell_type": "code",
      "metadata": {
        "colab": {
          "base_uri": "https://localhost:8080/"
        },
        "id": "k-ZQmO0RD9Ei",
        "outputId": "e86c11b7-c9a1-469f-c4a3-48646d65476d"
      },
      "source": [
        "print(\"Lost games \\n\",lossDf.sort_values(by=['Throws']).to_string(index=False))\n",
        "print(\"Won games \\n\",winsDf.sort_values(by=['Throws']).to_string(index=False))\n"
      ],
      "execution_count": null,
      "outputs": [
        {
          "output_type": "stream",
          "name": "stdout",
          "text": [
            "Lost games \n",
            "  Throws  Games\n",
            "      1   1104\n",
            "      2   1087\n",
            "      3    766\n",
            "      4    580\n",
            "      5    417\n",
            "      6    294\n",
            "      7    209\n",
            "      8    148\n",
            "      9    108\n",
            "     10     77\n",
            "     11     52\n",
            "     12     49\n",
            "     13     42\n",
            "     14     23\n",
            "     15     19\n",
            "     16      8\n",
            "     17      5\n",
            "     18      6\n",
            "     19      7\n",
            "     20      6\n",
            "     21      1\n",
            "     22      1\n",
            "     24      1\n",
            "     25      1\n",
            "Won games \n",
            "  Throws  Games\n",
            "      1   2224\n",
            "      2    809\n",
            "      3    582\n",
            "      4    370\n",
            "      5    286\n",
            "      6    199\n",
            "      7    135\n",
            "      8    106\n",
            "      9     69\n",
            "     10     59\n",
            "     11     36\n",
            "     12     30\n",
            "     13     23\n",
            "     14     17\n",
            "     15     11\n",
            "     16     12\n",
            "     17      5\n",
            "     18      8\n",
            "     19      1\n",
            "     20      2\n",
            "     21      3\n",
            "     23      1\n",
            "     35      1\n"
          ]
        }
      ]
    },
    {
      "cell_type": "code",
      "metadata": {
        "colab": {
          "base_uri": "https://localhost:8080/",
          "height": 296
        },
        "id": "lJdGFHaiFhrJ",
        "outputId": "c7a884c6-5760-4ead-f4e6-6ff53efd4194"
      },
      "source": [
        "#Display as probabilities\n",
        "\n",
        "pL = [y/(totalWins+totalLoss)for y in yL]\n",
        "pW = [y/(totalWins+totalLoss) for y in yW]\n",
        "\n",
        "probsLossDf = pd.DataFrame({\"Throws\":xL, \"Probability\":pL})\n",
        "probsWinDf = pd.DataFrame({\"Throws\":xW, \"Probability\":pW})\n",
        "sns.lineplot(data=probsLossDf, x='Throws', y='Probability', color=\"red\", label =\"loss\")\n",
        "sns.lineplot(data=probsWinDf, x='Throws', y='Probability', label =\"win\")"
      ],
      "execution_count": null,
      "outputs": [
        {
          "output_type": "execute_result",
          "data": {
            "text/plain": [
              "<matplotlib.axes._subplots.AxesSubplot at 0x7fa478da8450>"
            ]
          },
          "metadata": {},
          "execution_count": 15
        },
        {
          "output_type": "display_data",
          "data": {
            "image/png": "[encoded data removed]",
            "text/plain": [
              "<Figure size 432x288 with 1 Axes>"
            ]
          },
          "metadata": {
            "needs_background": "light"
          }
        }
      ]
    },
    {
      "cell_type": "code",
      "metadata": {
        "colab": {
          "base_uri": "https://localhost:8080/"
        },
        "id": "TY7VUU6TA_OJ",
        "outputId": "363aae27-7fb5-4733-a73e-caac1727accc"
      },
      "source": [
        "print(probsLossDf.sort_values(by=['Throws']).to_string(index=False))\n",
        "print(probsWinDf.sort_values(by=['Throws']).to_string(index=False))\n"
      ],
      "execution_count": null,
      "outputs": [
        {
          "output_type": "stream",
          "name": "stdout",
          "text": [
            " Throws  Probability\n",
            "      1       0.1104\n",
            "      2       0.1087\n",
            "      3       0.0766\n",
            "      4       0.0580\n",
            "      5       0.0417\n",
            "      6       0.0294\n",
            "      7       0.0209\n",
            "      8       0.0148\n",
            "      9       0.0108\n",
            "     10       0.0077\n",
            "     11       0.0052\n",
            "     12       0.0049\n",
            "     13       0.0042\n",
            "     14       0.0023\n",
            "     15       0.0019\n",
            "     16       0.0008\n",
            "     17       0.0005\n",
            "     18       0.0006\n",
            "     19       0.0007\n",
            "     20       0.0006\n",
            "     21       0.0001\n",
            "     22       0.0001\n",
            "     24       0.0001\n",
            "     25       0.0001\n",
            " Throws  Probability\n",
            "      1       0.2224\n",
            "      2       0.0809\n",
            "      3       0.0582\n",
            "      4       0.0370\n",
            "      5       0.0286\n",
            "      6       0.0199\n",
            "      7       0.0135\n",
            "      8       0.0106\n",
            "      9       0.0069\n",
            "     10       0.0059\n",
            "     11       0.0036\n",
            "     12       0.0030\n",
            "     13       0.0023\n",
            "     14       0.0017\n",
            "     15       0.0011\n",
            "     16       0.0012\n",
            "     17       0.0005\n",
            "     18       0.0008\n",
            "     19       0.0001\n",
            "     20       0.0002\n",
            "     21       0.0003\n",
            "     23       0.0001\n",
            "     35       0.0001\n"
          ]
        }
      ]
    },
    {
      "cell_type": "code",
      "metadata": {
        "colab": {
          "base_uri": "https://localhost:8080/",
          "height": 249
        },
        "id": "uwfYZnICLAmq",
        "outputId": "2784f8ed-ed9a-4526-cf4a-64212bb368f7"
      },
      "source": [
        "#Average length of games \n",
        "import statistics\n",
        "y = [int(i) for i in y]\n",
        "statistics.std(y)"
      ],
      "execution_count": null,
      "outputs": [
        {
          "output_type": "error",
          "ename": "NameError",
          "evalue": "ignored",
          "traceback": [
            "\u001b[0;31m---------------------------------------------------------------------------\u001b[0m",
            "\u001b[0;31mNameError\u001b[0m                                 Traceback (most recent call last)",
            "\u001b[0;32m<ipython-input-1-329027953f17>\u001b[0m in \u001b[0;36m<module>\u001b[0;34m()\u001b[0m\n\u001b[1;32m      1\u001b[0m \u001b[0;31m#Average length of games\u001b[0m\u001b[0;34m\u001b[0m\u001b[0;34m\u001b[0m\u001b[0;34m\u001b[0m\u001b[0m\n\u001b[1;32m      2\u001b[0m \u001b[0;32mimport\u001b[0m \u001b[0mstatistics\u001b[0m\u001b[0;34m\u001b[0m\u001b[0;34m\u001b[0m\u001b[0m\n\u001b[0;32m----> 3\u001b[0;31m \u001b[0my\u001b[0m \u001b[0;34m=\u001b[0m \u001b[0;34m[\u001b[0m\u001b[0mint\u001b[0m\u001b[0;34m(\u001b[0m\u001b[0mi\u001b[0m\u001b[0;34m)\u001b[0m \u001b[0;32mfor\u001b[0m \u001b[0mi\u001b[0m \u001b[0;32min\u001b[0m \u001b[0my\u001b[0m\u001b[0;34m]\u001b[0m\u001b[0;34m\u001b[0m\u001b[0;34m\u001b[0m\u001b[0m\n\u001b[0m\u001b[1;32m      4\u001b[0m \u001b[0mstatistics\u001b[0m\u001b[0;34m.\u001b[0m\u001b[0mstd\u001b[0m\u001b[0;34m(\u001b[0m\u001b[0my\u001b[0m\u001b[0;34m)\u001b[0m\u001b[0;34m\u001b[0m\u001b[0;34m\u001b[0m\u001b[0m\n",
            "\u001b[0;31mNameError\u001b[0m: name 'y' is not defined"
          ]
        }
      ]
    }
  ]
}